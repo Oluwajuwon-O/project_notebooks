{
 "cells": [
  {
   "cell_type": "code",
   "execution_count": 1,
   "id": "0cb8752c",
   "metadata": {},
   "outputs": [],
   "source": [
    "import numpy as np\n",
    "import pandas as pd\n",
    "import matplotlib.pyplot as plt\n",
    "import seaborn as sns\n",
    "\n",
    "%matplotlib inline"
   ]
  },
  {
   "cell_type": "code",
   "execution_count": 2,
   "id": "07681063",
   "metadata": {},
   "outputs": [],
   "source": [
    "plt.rc('font', size=14)\n",
    "plt.rc('axes', labelsize=14, titlesize=14)\n",
    "plt.rc('legend', fontsize=14)\n",
    "plt.rc('xtick', labelsize=10)\n",
    "plt.rc('ytick', labelsize=10)"
   ]
  },
  {
   "cell_type": "code",
   "execution_count": 3,
   "id": "e1c924d1",
   "metadata": {},
   "outputs": [],
   "source": [
    "df = pd.read_csv('cleaned_energy_data.csv')"
   ]
  },
  {
   "cell_type": "code",
   "execution_count": 4,
   "id": "69cc8a5f",
   "metadata": {
    "scrolled": true
   },
   "outputs": [
    {
     "data": {
      "text/plain": [
       "IKD201    124791\n",
       "IKD202     88630\n",
       "BED222     70742\n",
       "BED203     60690\n",
       "BED202     59458\n",
       "IBD210     58238\n",
       "BED201     54775\n",
       "IBD205     49738\n",
       "IKD204     48713\n",
       "BED205     43745\n",
       "PED202     42536\n",
       "AED201     38662\n",
       "IBD209     36904\n",
       "IBD212     35277\n",
       "IBD207     32308\n",
       "IBD213     23910\n",
       "IBD240     23088\n",
       "IBD217     22923\n",
       "BED204     20365\n",
       "IKD203     14183\n",
       "IBD301     13833\n",
       "IBD208     11411\n",
       "IBD214     11312\n",
       "IBD216      8685\n",
       "BED221      6868\n",
       "BED208      4793\n",
       "PED203      1954\n",
       "IBD204      1497\n",
       "BED207      1292\n",
       "IBD219       987\n",
       "PED201       480\n",
       "IBD218       460\n",
       "BED206       428\n",
       "AED202       185\n",
       "BED209       122\n",
       "BED220        67\n",
       "BED213        17\n",
       "IBD220        13\n",
       "BED225         9\n",
       "BED217         8\n",
       "BED216         8\n",
       "BED215         6\n",
       "BED218         3\n",
       "AED203         2\n",
       "Name: meter_id, dtype: int64"
      ]
     },
     "execution_count": 4,
     "metadata": {},
     "output_type": "execute_result"
    }
   ],
   "source": [
    "df['meter_id'].value_counts()"
   ]
  },
  {
   "cell_type": "markdown",
   "id": "a7b68058",
   "metadata": {},
   "source": [
    "**Let's work on 4 meters**"
   ]
  },
  {
   "cell_type": "code",
   "execution_count": 16,
   "id": "d3f0103f",
   "metadata": {},
   "outputs": [],
   "source": [
    "df1 = df[df['meter_id'].isin(['IKD201','BED202','AED201','PED202','IBD209'])]"
   ]
  },
  {
   "cell_type": "code",
   "execution_count": 17,
   "id": "9a859c77",
   "metadata": {
    "scrolled": false
   },
   "outputs": [
    {
     "name": "stdout",
     "output_type": "stream",
     "text": [
      "<class 'pandas.core.frame.DataFrame'>\n",
      "Int64Index: 302351 entries, 0 to 1012161\n",
      "Data columns (total 11 columns):\n",
      " #   Column          Non-Null Count   Dtype  \n",
      "---  ------          --------------   -----  \n",
      " 0   meter_id        302351 non-null  object \n",
      " 1   timestamp       302351 non-null  object \n",
      " 2   current         302351 non-null  float64\n",
      " 3   voltage         302351 non-null  float64\n",
      " 4   frequency       302351 non-null  float64\n",
      " 5   power_factor    302351 non-null  float64\n",
      " 6   energy          302351 non-null  float64\n",
      " 7   real_power      302351 non-null  float64\n",
      " 8   reactive_power  302351 non-null  float64\n",
      " 9   apparent_power  302351 non-null  float64\n",
      " 10  color_code      302351 non-null  object \n",
      "dtypes: float64(8), object(3)\n",
      "memory usage: 27.7+ MB\n"
     ]
    }
   ],
   "source": [
    "df1.info()"
   ]
  },
  {
   "cell_type": "code",
   "execution_count": 9,
   "id": "fbedc20c",
   "metadata": {
    "scrolled": true
   },
   "outputs": [
    {
     "name": "stderr",
     "output_type": "stream",
     "text": [
      "C:\\Users\\Oluwajuwon\\AppData\\Local\\Temp\\ipykernel_10468\\2636251428.py:1: SettingWithCopyWarning: \n",
      "A value is trying to be set on a copy of a slice from a DataFrame.\n",
      "Try using .loc[row_indexer,col_indexer] = value instead\n",
      "\n",
      "See the caveats in the documentation: https://pandas.pydata.org/pandas-docs/stable/user_guide/indexing.html#returning-a-view-versus-a-copy\n",
      "  df1['timestamp'] = pd.to_datetime(df1['timestamp'])\n"
     ]
    }
   ],
   "source": [
    "df1['timestamp'] = pd.to_datetime(df1['timestamp'])"
   ]
  },
  {
   "cell_type": "code",
   "execution_count": 42,
   "id": "ba4096e9",
   "metadata": {},
   "outputs": [
    {
     "data": {
      "image/png": "[encoded data removed]",
      "text/plain": [
       "<Figure size 1000x500 with 2 Axes>"
      ]
     },
     "metadata": {},
     "output_type": "display_data"
    }
   ],
   "source": [
    "plt.figure(figsize=[10,5])\n",
    "plt.subplot(1,2,1)\n",
    "plt.plot(df1[df1['meter_id']=='IKD201']['energy'],'b.',label='IKD201')\n",
    "plt.plot(df1[df1['meter_id']=='BED202']['energy'],'r.',label='BED202')\n",
    "plt.plot(df1[df1['meter_id']=='AED201']['energy'],'k.',label='AED201')\n",
    "plt.plot(df1[df1['meter_id']=='PED202']['energy'],'g.',label='PED202')\n",
    "plt.plot(df1[df1['meter_id']=='IBD209']['energy'],'m.',label='IBD209')\n",
    "plt.legend()\n",
    "\n",
    "plt.subplot(1,2,2)\n",
    "plt.plot(df1['energy'],'.')\n",
    "plt.show()"
   ]
  },
  {
   "cell_type": "markdown",
   "id": "fda30e4f",
   "metadata": {},
   "source": [
    "**KMeans**"
   ]
  },
  {
   "cell_type": "code",
   "execution_count": null,
   "id": "37bf28e1",
   "metadata": {},
   "outputs": [],
   "source": [
    "from sklearn.cluster import KMeans"
   ]
  }
 ],
 "metadata": {
  "kernelspec": {
   "display_name": "Python 3 (ipykernel)",
   "language": "python",
   "name": "python3"
  },
  "language_info": {
   "codemirror_mode": {
    "name": "ipython",
    "version": 3
   },
   "file_extension": ".py",
   "mimetype": "text/x-python",
   "name": "python",
   "nbconvert_exporter": "python",
   "pygments_lexer": "ipython3",
   "version": "3.9.13"
  }
 },
 "nbformat": 4,
 "nbformat_minor": 5
}
