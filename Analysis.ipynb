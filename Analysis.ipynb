{
 "cells": [
  {
   "cell_type": "code",
   "execution_count": 1,
   "id": "28a940b0",
   "metadata": {},
   "outputs": [],
   "source": [
    "import numpy as np\n",
    "import pandas as pd\n",
    "import matplotlib.pyplot as plt\n",
    "import seaborn as sns\n",
    "\n",
    "%matplotlib inline"
   ]
  },
  {
   "cell_type": "code",
   "execution_count": 2,
   "id": "6387134d",
   "metadata": {},
   "outputs": [],
   "source": [
    "df = pd.read_csv('energydata_realenergydata.csv')"
   ]
  },
  {
   "cell_type": "code",
   "execution_count": 3,
   "id": "ffbe61eb",
   "metadata": {},
   "outputs": [
    {
     "name": "stdout",
     "output_type": "stream",
     "text": [
      "<class 'pandas.core.frame.DataFrame'>\n",
      "RangeIndex: 1048191 entries, 0 to 1048190\n",
      "Data columns (total 12 columns):\n",
      " #   Column          Non-Null Count    Dtype  \n",
      "---  ------          --------------    -----  \n",
      " 0   S/N             1048191 non-null  int64  \n",
      " 1   meter_id        1048191 non-null  object \n",
      " 2   timestamp1      1048191 non-null  object \n",
      " 3   timestamp2      1048191 non-null  object \n",
      " 4   current         1048191 non-null  float64\n",
      " 5   voltage         1048191 non-null  float64\n",
      " 6   frequency       1048191 non-null  float64\n",
      " 7   power_factor    1048191 non-null  float64\n",
      " 8   energy          1048191 non-null  float64\n",
      " 9   real_power      1048191 non-null  float64\n",
      " 10  reactive_power  1048191 non-null  float64\n",
      " 11  apparent_power  1048191 non-null  float64\n",
      "dtypes: float64(8), int64(1), object(3)\n",
      "memory usage: 96.0+ MB\n"
     ]
    }
   ],
   "source": [
    "df.info()"
   ]
  },
  {
   "cell_type": "markdown",
   "id": "ebd93a85",
   "metadata": {},
   "source": [
    "1. check to transmission times\n",
    "2. investigate timestamp columns\n"
   ]
  },
  {
   "cell_type": "code",
   "execution_count": 29,
   "id": "2092fb79",
   "metadata": {},
   "outputs": [
    {
     "name": "stdout",
     "output_type": "stream",
     "text": [
      "number of meters: 45\n"
     ]
    }
   ],
   "source": [
    "print('number of meters:',len(df['meter_id'].value_counts()))"
   ]
  },
  {
   "cell_type": "code",
   "execution_count": null,
   "id": "92f400f4",
   "metadata": {},
   "outputs": [],
   "source": []
  },
  {
   "cell_type": "code",
   "execution_count": 35,
   "id": "6df4ad7e",
   "metadata": {},
   "outputs": [
    {
     "name": "stdout",
     "output_type": "stream",
     "text": [
      "List of meters: \n",
      " ['AED201' 'AED202' 'AED203' 'BED201' 'BED202' 'BED203' 'BED204' 'BED205'\n",
      " 'BED206' 'BED207' 'BED208' 'BED209' 'BED213' 'BED215' 'BED216' 'BED217'\n",
      " 'BED218' 'BED220' 'BED221' 'BED222' 'BED225' 'BED226' 'IBD204' 'IBD205'\n",
      " 'IBD207' 'IBD208' 'IBD209' 'IBD210' 'IBD212' 'IBD213' 'IBD214' 'IBD216'\n",
      " 'IBD217' 'IBD218' 'IBD219' 'IBD220' 'IBD240' 'IBD301' 'IKD201' 'IKD202'\n",
      " 'IKD203' 'IKD204' 'PED201' 'PED202' 'PED203']\n"
     ]
    }
   ],
   "source": [
    "print('List of meters: \\n',np.sort(df['meter_id'].unique()))"
   ]
  },
  {
   "cell_type": "code",
   "execution_count": null,
   "id": "586b2d53",
   "metadata": {},
   "outputs": [],
   "source": []
  },
  {
   "cell_type": "code",
   "execution_count": null,
   "id": "c9799714",
   "metadata": {},
   "outputs": [],
   "source": []
  },
  {
   "cell_type": "code",
   "execution_count": 4,
   "id": "61919c68",
   "metadata": {},
   "outputs": [],
   "source": [
    "df['timestamp1'] = pd.to_datetime(df['timestamp1'])\n",
    "df['timestamp2'] = pd.to_datetime(df['timestamp2'])"
   ]
  },
  {
   "cell_type": "code",
   "execution_count": 38,
   "id": "84470ee8",
   "metadata": {},
   "outputs": [],
   "source": [
    "df['time_diff'] =  df['timestamp2'] - df['timestamp1']"
   ]
  },
  {
   "cell_type": "code",
   "execution_count": 39,
   "id": "036a4ca2",
   "metadata": {},
   "outputs": [],
   "source": [
    "df['time_diff'] = df['time_diff'].dt.total_seconds()"
   ]
  },
  {
   "cell_type": "code",
   "execution_count": 40,
   "id": "8e73008a",
   "metadata": {},
   "outputs": [
    {
     "data": {
      "text/plain": [
       "28.222721    7\n",
       "28.272319    7\n",
       "28.192467    7\n",
       "28.644406    6\n",
       "27.969238    6\n",
       "            ..\n",
       "29.303647    1\n",
       "28.413658    1\n",
       "28.090892    1\n",
       "28.916585    1\n",
       "27.783815    1\n",
       "Name: time_diff, Length: 846667, dtype: int64"
      ]
     },
     "execution_count": 40,
     "metadata": {},
     "output_type": "execute_result"
    }
   ],
   "source": [
    "df['time_diff'].value_counts()"
   ]
  },
  {
   "cell_type": "code",
   "execution_count": 20,
   "id": "fce33bdf",
   "metadata": {},
   "outputs": [
    {
     "data": {
      "text/plain": [
       "(19.571846, 605445663.691045)"
      ]
     },
     "execution_count": 20,
     "metadata": {},
     "output_type": "execute_result"
    }
   ],
   "source": [
    "df['time_diff'].min(),df['time_diff'].max()"
   ]
  },
  {
   "cell_type": "code",
   "execution_count": 21,
   "id": "5d473292",
   "metadata": {},
   "outputs": [
    {
     "data": {
      "text/html": [
       "<div>\n",
       "<style scoped>\n",
       "    .dataframe tbody tr th:only-of-type {\n",
       "        vertical-align: middle;\n",
       "    }\n",
       "\n",
       "    .dataframe tbody tr th {\n",
       "        vertical-align: top;\n",
       "    }\n",
       "\n",
       "    .dataframe thead th {\n",
       "        text-align: right;\n",
       "    }\n",
       "</style>\n",
       "<table border=\"1\" class=\"dataframe\">\n",
       "  <thead>\n",
       "    <tr style=\"text-align: right;\">\n",
       "      <th></th>\n",
       "      <th>S/N</th>\n",
       "      <th>meter_id</th>\n",
       "      <th>timestamp1</th>\n",
       "      <th>timestamp2</th>\n",
       "      <th>current</th>\n",
       "      <th>voltage</th>\n",
       "      <th>frequency</th>\n",
       "      <th>power_factor</th>\n",
       "      <th>energy</th>\n",
       "      <th>real_power</th>\n",
       "      <th>reactive_power</th>\n",
       "      <th>apparent_power</th>\n",
       "      <th>time_diff</th>\n",
       "    </tr>\n",
       "  </thead>\n",
       "  <tbody>\n",
       "    <tr>\n",
       "      <th>388</th>\n",
       "      <td>9772</td>\n",
       "      <td>IBD240</td>\n",
       "      <td>2022-10-14 06:37:00+01:00</td>\n",
       "      <td>2022-10-14 06:37:34.639141+01:00</td>\n",
       "      <td>3.09</td>\n",
       "      <td>238.32</td>\n",
       "      <td>50.19</td>\n",
       "      <td>0.95</td>\n",
       "      <td>103.5694</td>\n",
       "      <td>700.04</td>\n",
       "      <td>230.11</td>\n",
       "      <td>736.89</td>\n",
       "      <td>34.639141</td>\n",
       "    </tr>\n",
       "    <tr>\n",
       "      <th>427</th>\n",
       "      <td>9811</td>\n",
       "      <td>IBD204</td>\n",
       "      <td>2022-10-14 08:43:46+01:00</td>\n",
       "      <td>2022-10-14 08:44:19.176854+01:00</td>\n",
       "      <td>0.50</td>\n",
       "      <td>231.42</td>\n",
       "      <td>50.03</td>\n",
       "      <td>0.97</td>\n",
       "      <td>0.0905</td>\n",
       "      <td>111.79</td>\n",
       "      <td>28.03</td>\n",
       "      <td>115.25</td>\n",
       "      <td>33.176854</td>\n",
       "    </tr>\n",
       "    <tr>\n",
       "      <th>428</th>\n",
       "      <td>9812</td>\n",
       "      <td>IBD205</td>\n",
       "      <td>2022-10-14 08:43:46+01:00</td>\n",
       "      <td>2022-10-14 08:44:19.451696+01:00</td>\n",
       "      <td>0.41</td>\n",
       "      <td>229.04</td>\n",
       "      <td>50.03</td>\n",
       "      <td>0.99</td>\n",
       "      <td>0.0094</td>\n",
       "      <td>93.42</td>\n",
       "      <td>13.29</td>\n",
       "      <td>94.36</td>\n",
       "      <td>33.451696</td>\n",
       "    </tr>\n",
       "    <tr>\n",
       "      <th>429</th>\n",
       "      <td>9813</td>\n",
       "      <td>IKD204</td>\n",
       "      <td>2022-10-14 08:43:49+01:00</td>\n",
       "      <td>2022-10-14 08:44:22.445780+01:00</td>\n",
       "      <td>0.45</td>\n",
       "      <td>230.32</td>\n",
       "      <td>50.03</td>\n",
       "      <td>0.99</td>\n",
       "      <td>0.0213</td>\n",
       "      <td>101.70</td>\n",
       "      <td>14.44</td>\n",
       "      <td>102.72</td>\n",
       "      <td>33.445780</td>\n",
       "    </tr>\n",
       "    <tr>\n",
       "      <th>430</th>\n",
       "      <td>9814</td>\n",
       "      <td>PED201</td>\n",
       "      <td>2022-10-14 08:43:48+01:00</td>\n",
       "      <td>2022-10-14 08:44:23.092559+01:00</td>\n",
       "      <td>0.44</td>\n",
       "      <td>229.40</td>\n",
       "      <td>50.03</td>\n",
       "      <td>0.99</td>\n",
       "      <td>0.0222</td>\n",
       "      <td>100.84</td>\n",
       "      <td>14.31</td>\n",
       "      <td>101.85</td>\n",
       "      <td>35.092559</td>\n",
       "    </tr>\n",
       "    <tr>\n",
       "      <th>...</th>\n",
       "      <td>...</td>\n",
       "      <td>...</td>\n",
       "      <td>...</td>\n",
       "      <td>...</td>\n",
       "      <td>...</td>\n",
       "      <td>...</td>\n",
       "      <td>...</td>\n",
       "      <td>...</td>\n",
       "      <td>...</td>\n",
       "      <td>...</td>\n",
       "      <td>...</td>\n",
       "      <td>...</td>\n",
       "      <td>...</td>\n",
       "    </tr>\n",
       "    <tr>\n",
       "      <th>1047980</th>\n",
       "      <td>1365270</td>\n",
       "      <td>IKD201</td>\n",
       "      <td>2023-03-11 01:14:30+01:00</td>\n",
       "      <td>2023-03-11 01:15:05.270142+01:00</td>\n",
       "      <td>0.03</td>\n",
       "      <td>200.90</td>\n",
       "      <td>50.30</td>\n",
       "      <td>0.75</td>\n",
       "      <td>215.3305</td>\n",
       "      <td>4.22</td>\n",
       "      <td>3.73</td>\n",
       "      <td>5.63</td>\n",
       "      <td>35.270142</td>\n",
       "    </tr>\n",
       "    <tr>\n",
       "      <th>1048011</th>\n",
       "      <td>1365301</td>\n",
       "      <td>IKD201</td>\n",
       "      <td>2023-03-11 01:23:46+01:00</td>\n",
       "      <td>2023-03-11 01:24:18.113200+01:00</td>\n",
       "      <td>0.03</td>\n",
       "      <td>203.72</td>\n",
       "      <td>50.28</td>\n",
       "      <td>0.77</td>\n",
       "      <td>215.3305</td>\n",
       "      <td>4.39</td>\n",
       "      <td>3.64</td>\n",
       "      <td>5.70</td>\n",
       "      <td>32.113200</td>\n",
       "    </tr>\n",
       "    <tr>\n",
       "      <th>1048022</th>\n",
       "      <td>1365312</td>\n",
       "      <td>IBD210</td>\n",
       "      <td>2023-03-11 01:26:35+01:00</td>\n",
       "      <td>2023-03-11 01:27:05.082454+01:00</td>\n",
       "      <td>0.03</td>\n",
       "      <td>190.82</td>\n",
       "      <td>50.25</td>\n",
       "      <td>0.74</td>\n",
       "      <td>0.0060</td>\n",
       "      <td>3.67</td>\n",
       "      <td>3.34</td>\n",
       "      <td>4.96</td>\n",
       "      <td>30.082454</td>\n",
       "    </tr>\n",
       "    <tr>\n",
       "      <th>1048110</th>\n",
       "      <td>1365400</td>\n",
       "      <td>IKD201</td>\n",
       "      <td>2023-03-11 01:48:48+01:00</td>\n",
       "      <td>2023-03-11 01:49:18.173158+01:00</td>\n",
       "      <td>0.03</td>\n",
       "      <td>203.26</td>\n",
       "      <td>50.15</td>\n",
       "      <td>0.77</td>\n",
       "      <td>215.3305</td>\n",
       "      <td>4.38</td>\n",
       "      <td>3.63</td>\n",
       "      <td>5.69</td>\n",
       "      <td>30.173158</td>\n",
       "    </tr>\n",
       "    <tr>\n",
       "      <th>1048180</th>\n",
       "      <td>1365470</td>\n",
       "      <td>IBD217</td>\n",
       "      <td>2023-03-11 02:03:43+01:00</td>\n",
       "      <td>2023-03-11 02:04:13.382541+01:00</td>\n",
       "      <td>2.40</td>\n",
       "      <td>215.56</td>\n",
       "      <td>49.31</td>\n",
       "      <td>0.75</td>\n",
       "      <td>348.8450</td>\n",
       "      <td>387.36</td>\n",
       "      <td>341.62</td>\n",
       "      <td>516.48</td>\n",
       "      <td>30.382541</td>\n",
       "    </tr>\n",
       "  </tbody>\n",
       "</table>\n",
       "<p>64402 rows × 13 columns</p>\n",
       "</div>"
      ],
      "text/plain": [
       "             S/N meter_id                timestamp1  \\\n",
       "388         9772   IBD240 2022-10-14 06:37:00+01:00   \n",
       "427         9811   IBD204 2022-10-14 08:43:46+01:00   \n",
       "428         9812   IBD205 2022-10-14 08:43:46+01:00   \n",
       "429         9813   IKD204 2022-10-14 08:43:49+01:00   \n",
       "430         9814   PED201 2022-10-14 08:43:48+01:00   \n",
       "...          ...      ...                       ...   \n",
       "1047980  1365270   IKD201 2023-03-11 01:14:30+01:00   \n",
       "1048011  1365301   IKD201 2023-03-11 01:23:46+01:00   \n",
       "1048022  1365312   IBD210 2023-03-11 01:26:35+01:00   \n",
       "1048110  1365400   IKD201 2023-03-11 01:48:48+01:00   \n",
       "1048180  1365470   IBD217 2023-03-11 02:03:43+01:00   \n",
       "\n",
       "                              timestamp2  current  voltage  frequency  \\\n",
       "388     2022-10-14 06:37:34.639141+01:00     3.09   238.32      50.19   \n",
       "427     2022-10-14 08:44:19.176854+01:00     0.50   231.42      50.03   \n",
       "428     2022-10-14 08:44:19.451696+01:00     0.41   229.04      50.03   \n",
       "429     2022-10-14 08:44:22.445780+01:00     0.45   230.32      50.03   \n",
       "430     2022-10-14 08:44:23.092559+01:00     0.44   229.40      50.03   \n",
       "...                                  ...      ...      ...        ...   \n",
       "1047980 2023-03-11 01:15:05.270142+01:00     0.03   200.90      50.30   \n",
       "1048011 2023-03-11 01:24:18.113200+01:00     0.03   203.72      50.28   \n",
       "1048022 2023-03-11 01:27:05.082454+01:00     0.03   190.82      50.25   \n",
       "1048110 2023-03-11 01:49:18.173158+01:00     0.03   203.26      50.15   \n",
       "1048180 2023-03-11 02:04:13.382541+01:00     2.40   215.56      49.31   \n",
       "\n",
       "         power_factor    energy  real_power  reactive_power  apparent_power  \\\n",
       "388              0.95  103.5694      700.04          230.11          736.89   \n",
       "427              0.97    0.0905      111.79           28.03          115.25   \n",
       "428              0.99    0.0094       93.42           13.29           94.36   \n",
       "429              0.99    0.0213      101.70           14.44          102.72   \n",
       "430              0.99    0.0222      100.84           14.31          101.85   \n",
       "...               ...       ...         ...             ...             ...   \n",
       "1047980          0.75  215.3305        4.22            3.73            5.63   \n",
       "1048011          0.77  215.3305        4.39            3.64            5.70   \n",
       "1048022          0.74    0.0060        3.67            3.34            4.96   \n",
       "1048110          0.77  215.3305        4.38            3.63            5.69   \n",
       "1048180          0.75  348.8450      387.36          341.62          516.48   \n",
       "\n",
       "         time_diff  \n",
       "388      34.639141  \n",
       "427      33.176854  \n",
       "428      33.451696  \n",
       "429      33.445780  \n",
       "430      35.092559  \n",
       "...            ...  \n",
       "1047980  35.270142  \n",
       "1048011  32.113200  \n",
       "1048022  30.082454  \n",
       "1048110  30.173158  \n",
       "1048180  30.382541  \n",
       "\n",
       "[64402 rows x 13 columns]"
      ]
     },
     "execution_count": 21,
     "metadata": {},
     "output_type": "execute_result"
    }
   ],
   "source": [
    "df[df['time_diff'] > 30]"
   ]
  },
  {
   "cell_type": "code",
   "execution_count": 47,
   "id": "3dfce8b9",
   "metadata": {},
   "outputs": [
    {
     "data": {
      "text/plain": [
       "array(['IBD207', 'IBD205', 'BED221', 'IBD204', 'IBD220', 'IKD201',\n",
       "       'AED201', 'BED202', 'IBD210', 'BED203', 'IBD209', 'BED222',\n",
       "       'BED201', 'IKD202', 'IBD217', 'IKD204', 'IBD212', 'PED202',\n",
       "       'IBD214', 'BED205', 'IKD203', 'BED207', 'IBD240', 'IBD301'],\n",
       "      dtype=object)"
      ]
     },
     "execution_count": 47,
     "metadata": {},
     "output_type": "execute_result"
    }
   ],
   "source": [
    "print('')\n",
    "df[df['time_diff'] > 60]['meter_id'].unique()"
   ]
  }
 ],
 "metadata": {
  "kernelspec": {
   "display_name": "Python 3 (ipykernel)",
   "language": "python",
   "name": "python3"
  },
  "language_info": {
   "codemirror_mode": {
    "name": "ipython",
    "version": 3
   },
   "file_extension": ".py",
   "mimetype": "text/x-python",
   "name": "python",
   "nbconvert_exporter": "python",
   "pygments_lexer": "ipython3",
   "version": "3.9.13"
  }
 },
 "nbformat": 4,
 "nbformat_minor": 5
}
